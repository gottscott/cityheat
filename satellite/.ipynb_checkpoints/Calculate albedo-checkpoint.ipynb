{
 "cells": [
  {
   "cell_type": "markdown",
   "metadata": {},
   "source": [
    "# Albedo algorithm \n",
    "To calculate albedo for Landsat 8 data, you'll need Landsat bands 1-5. The steps are as follows: \n",
    "\n",
    "## 1) Go from raster data, saved as Digital Numbers, to top of the atmosphere (TOA) reflectance \n",
    "\n",
    "$$ \\rho*\\lambda = \\text{reflectance_mult_band}*DN +\\text{reflectance_add_band } $$\n",
    "where  $\\text{reflectance_mult_band} =2.000\\times 10^{-5} $ and $ \\text{reflectance_add_band } = -0.100000 $\n",
    "\n",
    "## 2) Go from reflectance to albedo using Ron Smith's normalize Liang et. al. algorithm\n",
    "\n",
    "$$ \\alpha = \\frac{(0.356*B1) + (0.130*B2) + (0.373*B3) + (0.085*B4) + (0.072*B5) -0.018) }{1.016} $$\n",
    "\n",
    "In Python, this is implemented as : \n"
   ]
  },
  {
   "cell_type": "code",
   "execution_count": null,
   "metadata": {
    "collapsed": true
   },
   "outputs": [],
   "source": [
    "# import libraries\n",
    "import gdal\n",
    "import numpy as np"
   ]
  },
  {
   "cell_type": "code",
   "execution_count": 2,
   "metadata": {
    "collapsed": false
   },
   "outputs": [],
   "source": [
    "# pre-allocate raster size by reading in band 1 of the landsat image\n",
    "i = 1\n",
    "path = 'data/BaltimoreLandsatSummer2015/L8 OLI_TIRS/LC80150332015229LGN00/'\n",
    "file = path+ 'LC80150332015229LGN00_B'+'%s'%i +'.TIF'\n",
    "layer = gdal.Open(file) # Open file\n",
    "src = layer.GetRasterBand(1) \n",
    "DN = src.ReadAsArray() # Read in raster data as a numpy array\n",
    "\n",
    "# pre-allocate bands\n",
    "B = np.zeros([5,DN.shape[0], DN.shape[1]]) \n",
    "\n",
    "# Get bands 1-5 and convert to reflectances\n",
    "for i in (1,2,3,4,5): \n",
    "    #O pen the file (redundant for the 1st band)\n",
    "    file = path+ 'LC80150332015229LGN00_B'+'%s'%i +'.TIF'\n",
    "    layer = gdal.Open(file)\n",
    "    src = layer.GetRasterBand(1)\n",
    "    \n",
    "    # read in the digital number\n",
    "    DN = src.ReadAsArray() \n",
    "    \n",
    "    # convert from digital number to toa reflectance  using : rho*\\lambda = REFLECTANCE_MULT_BAND_x*DN +REFLECTANCE_ADD_BAND_x\n",
    "    reflectance_mult_band = 2.000e-5\n",
    "    reflectance_add_band  = -0.100000\n",
    "    B[i-1,:, :] = reflectance_mult_band*DN+reflectance_add_band\n",
    "\n",
    "# calculate albedo using ((0.356*B1) + (0.130*B2) + (0.373*B3) + (0.085*B4) + (0.072*B5) -0.018) )/(1.016)\n",
    "alb = ((0.356*B[0,:]) + (0.130*B[1,:]) + (0.373*B[2,:]) + (0.085*B[3,:]) + (0.072*B[4,:]) -0.018)/1.016\n",
    "\n",
    "# Albedo is between zero and 1, mask possible errors as NaNs\n",
    "alb[alb>1] = 'NaN'\n",
    "alb[alb<0] = 'NaN'"
   ]
  },
  {
   "cell_type": "code",
   "execution_count": 3,
   "metadata": {
    "collapsed": true
   },
   "outputs": [],
   "source": [
    "# Save out file :\n",
    "# define driver\n",
    "format = \"GTiff\"\n",
    "driver = gdal.GetDriverByName( format )\n",
    "\n",
    "# copy over the metadata from the last file so projection info is the same\n",
    "src_ds = gdal.Open( file )\n",
    "dst_ds = driver.CreateCopy( 'LC80150332015229LGN00Albedo', src_ds, 0 )\n",
    "\n",
    "# write the albedo data\n",
    "dst_ds.GetRasterBand(1).WriteArray( alb )\n",
    "\n",
    "# close the datasets\n",
    "dst_ds = None\n",
    "src_ds = None"
   ]
  },
  {
   "cell_type": "code",
   "execution_count": null,
   "metadata": {
    "collapsed": false
   },
   "outputs": [
    {
     "data": {
      "text/plain": [
       "<matplotlib.colorbar.Colorbar at 0x1c8d6f150>"
      ]
     },
     "execution_count": 6,
     "metadata": {},
     "output_type": "execute_result"
    }
   ],
   "source": [
    "# check data \n",
    "ds = gdal.Open('LC80150332015229LGN00Albedo')\n",
    "src = layer.GetRasterBand(1)\n",
    "DN = src.ReadAsArray() \n",
    "\n",
    "%matplotlib inline\n",
    "import matplotlib.pyplot as plt\n",
    "plt.imshow(DN)\n",
    "plt.colorbar()"
   ]
  },
  {
   "cell_type": "code",
   "execution_count": null,
   "metadata": {
    "collapsed": true
   },
   "outputs": [],
   "source": []
  }
 ],
 "metadata": {
  "kernelspec": {
   "display_name": "Python 2",
   "language": "python",
   "name": "python2"
  },
  "language_info": {
   "codemirror_mode": {
    "name": "ipython",
    "version": 2
   },
   "file_extension": ".py",
   "mimetype": "text/x-python",
   "name": "python",
   "nbconvert_exporter": "python",
   "pygments_lexer": "ipython2",
   "version": "2.7.11"
  }
 },
 "nbformat": 4,
 "nbformat_minor": 0
}
