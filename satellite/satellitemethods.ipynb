{
 "cells": [
  {
   "cell_type": "code",
   "execution_count": 2,
   "metadata": {
    "collapsed": false
   },
   "outputs": [],
   "source": [
    "import numpy as np\n",
    "import matplotlib.pyplot as plt\n",
    "import matplotlib.image as mpimg\n",
    "import matplotlib\n",
    "#%matplotlib inline\n",
    "import re\n",
    "from skimage import io, exposure\n",
    "from matplotlib import pyplot as plt"
   ]
  },
  {
   "cell_type": "code",
   "execution_count": 3,
   "metadata": {
    "collapsed": false
   },
   "outputs": [],
   "source": [
    "# open images\n",
    "#band10 = mpimg.imread('LC80150332015229LGN00_B10.TIF')\n",
    "#band11 = mpimg.imread('LC80150332015229LGN00_B11.TIF')"
   ]
  },
  {
   "cell_type": "code",
   "execution_count": 4,
   "metadata": {
    "collapsed": false
   },
   "outputs": [],
   "source": [
    "def image_adjust_brightness(img, limit_left, limit_right, title):\n",
    "    \"\"\"\n",
    "    Adjust image brightness and plot the image\n",
    "    Input:\n",
    "    img - 2D array of uint16 type\n",
    "    limit_left - integer\n",
    "    limit_right - integer\n",
    "    title - string\n",
    "    \"\"\"\n",
    "    img_ha = exposure.rescale_intensity(img, (limit_left, limit_right))\n",
    "    \n",
    "    fig = plt.figure(figsize=(10, 10))\n",
    "    fig.set_facecolor('white')\n",
    "    plt.imshow(img_ha, cmap='gray')\n",
    "    plt.title(title)\n",
    "    plt.show()\n",
    "    \n",
    "def landsat8LST(band10file, title, vmin = 20, vmax = 37): \n",
    "    band10 = mpimg.imread(band10file)\n",
    "    # convert from digital numbers to (spectral) radiance\n",
    "    m_l = 3.3420E-04 # gain\n",
    "    a_l = 0.10000 # bias\n",
    "    radiance = m_l * band10 + a_l\n",
    "    # convert from radiance to temperature by inverting the planck function\n",
    "    k1 = 774.8853 \n",
    "    k2 = 1321.0789\n",
    "    temp = k2/ (np.log(k1/radiance +1)) -273.15\n",
    "    mpimg.imsave('LST%s.tif'%title, temp, format = 'TIF')\n",
    "    temp[temp < -100] = 'nan'\n",
    "    matplotlib.rcParams.update({'font.size': 60})\n",
    "    fig  = plt.figure(figsize=(75, 75))\n",
    "    imgplot = plt.imshow(temp, \n",
    "                         cmap = 'gray', #matplotlib.cm.RdBu_r, #matplotlib.cm.OrRd,\n",
    "                         vmin = vmin, #20,\n",
    "                         vmax = vmax, #37,\n",
    "                         )\n",
    "    plt.title(title)\n",
    "    plt.colorbar()\n",
    "    plt.savefig('LSTcolorbar%s.eps'%title)\n",
    "    return temp, imgplot"
   ]
  },
  {
   "cell_type": "code",
   "execution_count": null,
   "metadata": {
    "collapsed": false
   },
   "outputs": [],
   "source": [
    "if __name__ == '__main__' : \n",
    "    import fnmatch \n",
    "    import os \n",
    "    files = []\n",
    "    for root, dirnames, filenames in os.walk('.'): \n",
    "        for filename in fnmatch.filter(filenames, '*B10.TIF'): \n",
    "            files.append(os.path.join(root, filename))\n",
    "            \n",
    "    for file in files: \n",
    "        title = os.path.splitext(os.path.basename(file))[0]\n",
    "        landsat8LST(file, title)"
   ]
  }
 ],
 "metadata": {
  "kernelspec": {
   "display_name": "Python 2",
   "language": "python",
   "name": "python2"
  }
 },
 "nbformat": 4,
 "nbformat_minor": 0
}
