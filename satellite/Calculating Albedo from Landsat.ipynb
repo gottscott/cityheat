{
 "cells": [
  {
   "cell_type": "markdown",
   "metadata": {},
   "source": [
    "# Albedo algorithm \n",
    "To calculate albedo for Landsat 8 data, you'll need Landsat bands 1-5. The steps are as follows: \n",
    "\n",
    "## 1) Go from raster data, saved as Digital Numbers, to top of the atmosphere (TOA) reflectance:\n",
    "\n",
    "$$ \\rho*\\lambda = \\text{reflectance mult band}*DN +\\text{reflectance add band } $$\n",
    "where  \n",
    "$\\text{reflectance mult band} =2.000\\times 10^{-5} $ \n",
    "\n",
    "\n",
    "$ \\text{reflectance add band } = -0.100000 $\n",
    "\n",
    "## 2) Go from reflectance to albedo using Ron Smith's normalized Liang et. al. algorithm:\n",
    "\n",
    "$$ \\alpha = \\frac{(0.356*B1) + (0.130*B2) + (0.373*B3) + (0.085*B4) + (0.072*B5) -0.018) }{1.016} $$"
   ]
  },
  {
   "cell_type": "code",
   "execution_count": null,
   "metadata": {
    "collapsed": true
   },
   "outputs": [],
   "source": []
  }
 ],
 "metadata": {
  "kernelspec": {
   "display_name": "Python 2",
   "language": "python",
   "name": "python2"
  },
  "language_info": {
   "codemirror_mode": {
    "name": "ipython",
    "version": 2
   },
   "file_extension": ".py",
   "mimetype": "text/x-python",
   "name": "python",
   "nbconvert_exporter": "python",
   "pygments_lexer": "ipython2",
   "version": "2.7.11"
  }
 },
 "nbformat": 4,
 "nbformat_minor": 0
}
