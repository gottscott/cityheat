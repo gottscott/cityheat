{
 "metadata": {
  "name": "",
  "signature": "sha256:525831ac3ef9f984ee464f22c5f747b8d771ebc0e994f654479fad36ddd83d98"
 },
 "nbformat": 3,
 "nbformat_minor": 0,
 "worksheets": []
}