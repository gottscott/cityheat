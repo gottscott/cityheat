{
 "metadata": {
  "name": "",
  "signature": "sha256:928ffec405afa2bdb68d922bb8b46f9f26a316fbc0f224982536c43bdbfc17ae"
 },
 "nbformat": 3,
 "nbformat_minor": 0,
 "worksheets": [
  {
   "cells": [
    {
     "cell_type": "code",
     "collapsed": false,
     "input": [
      "import numpy as np"
     ],
     "language": "python",
     "metadata": {},
     "outputs": [],
     "prompt_number": 1
    },
    {
     "cell_type": "code",
     "collapsed": false,
     "input": [
      "temp = #mean daily temp \n",
      "mintemp = \n",
      "maxtemp = \n",
      "rh = \n",
      "\n",
      "c1 = -42.379\n",
      "c2 = 2.04901523\n",
      "c3 = 10.14333127\n",
      "c4 = - 0.22475541\n",
      "c5 = - 0.00683783\n",
      "c6 = - 0.05481717\n",
      "c7 = 0.00122874\n",
      "c8 = 0.00085282\n",
      "c9 = - 0.00000199\n",
      "\n",
      "hi = c1 +c2*temp +c3*rh + c4*temp*rh +c5*temp**2 +c6*rh**2+c7*temp**2*rh+c8*temp*rh**2+c9*temp**2*rh**2"
     ],
     "language": "python",
     "metadata": {},
     "outputs": []
    },
    {
     "cell_type": "code",
     "collapsed": false,
     "input": [
      "# Heat waves as defined by H01-H04, mean daily temperature > median threshold for consecutive tdays\n",
      "meanthresholds = np.array([95, 90, 98, 99])\n",
      "percentilethresholds = np.array(np.percentile(temp, list(thresholds))) # compute the 90th, 95, 95th and 99th percentile for daily mean temperature\n",
      "\n",
      "# min, H105, \n",
      "minpercentilethresholds = np.array(np.percentile(mintemp, 95))\n",
      "# max  H106 \n",
      "maxpercentilethresholds = np.array(np.percentile(maxtemp, 95))\n",
      "\n",
      "# apparent T H108-H10\n",
      "ATpercentilethresholds = np.array(np.percentile(AT, [85, 90, 95]))\n",
      "\n",
      "# max daily HI\n",
      "hithresholds = np.array([80, 90, 105, 130])\n",
      "# coefficients for heat index calculation \n"
     ],
     "language": "python",
     "metadata": {},
     "outputs": []
    }
   ],
   "metadata": {}
  }
 ]
}