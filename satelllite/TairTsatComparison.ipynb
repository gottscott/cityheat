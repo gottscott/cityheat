{
 "metadata": {
  "name": "",
  "signature": "sha256:b07456d75a779d19aeb77e71de617b638a35263d0461caafc661c052f068d8a4"
 },
 "nbformat": 3,
 "nbformat_minor": 0,
 "worksheets": [
  {
   "cells": [
    {
     "cell_type": "code",
     "collapsed": false,
     "input": [
      "import numpy as np\n",
      "import matplotlib.pyplot as plt\n",
      "import matplotlib.image as mpimg\n",
      "import matplotlib\n",
      "%matplotlib inline\n",
      "import re\n",
      "from skimage import io, exposure\n",
      "from matplotlib import pyplot as plt\n",
      "import pandas as pd \n",
      "\n",
      "import sys\n",
      "import glob\n",
      "import os\n",
      "\n",
      "sys.path.append('../cityheat/Bmore/')\n",
      "import ibuttonplots\n",
      "import importibuttondata\n",
      "\n",
      "files = glob.glob('../cityheat/Bmore/data/*[tT].csv')\n",
      "#files = glob.glob('./data/olddata/*[tT].csv')\n",
      "meta0 = pd.DataFrame(pd.read_csv('../cityheat/Bmore/data/bmoremetadata.csv', sep = ','))\n",
      "tempDF, anomalyDF, meta = importibuttondata.importdata(files, meta0)"
     ],
     "language": "python",
     "metadata": {},
     "outputs": [],
     "prompt_number": 51
    },
    {
     "cell_type": "code",
     "collapsed": false,
     "input": [
      "# Convert metadata from GeoTiff file into a shape file of lat/lon points, ignoring blank files\n",
      "#\n",
      "# from http://zacharybears.com/using-python-to-translate-latlon-locations-to-pixels-on-a-geotiff/\n",
      "# and https://pcjericks.github.io/py-gdalogr-cookbook/vector_layers.html?highlight=getgeotransform\n",
      "import ogr \n",
      "ds = gdal.Open('./data/BaltimoreLandsatSummer2015/L8 OLI_TIRS/LC80150332015149LGN00/LC80150332015149LGN00_B10.TIF')\n",
      "geotransform = ds.GetGeoTransform()\n",
      "\n",
      "array = ds.GetRasterBand(1).ReadAsArray()\n",
      "indexList = np.where(array > 0)\n",
      "multipoint = ogr.Geometry(ogr.wkbMultiPoint)\n",
      "count = 0\n",
      "for indY in indexList[0]: \n",
      "    indX = indexList[1][count]\n",
      "    originX = geotransform[0]\n",
      "    originY = geotransform[3]\n",
      "    pixelWidth = geotransform[1]\n",
      "    pixelHeight = geotransform[5]\n",
      "    Xcoord = originX+pixelWidth*indX\n",
      "    Ycoord = originY+pixelHeight*indY\n",
      "    point = ogr.Geometry(ogr.wkbPoint)\n",
      "    point.AddPoint(Xcoord, Ycoord)\n",
      "    multipoint.AddGeometry(point)\n",
      "    count += 1\n",
      "    \n",
      "shpDriver = ogr.GetDriverByName(\"ESRI Shapefile\")\n",
      "if os.path.exists('points.shp'):\n",
      "    shpDriver.DeleteDataSource('points.shp')\n",
      "outDataSource = shpDriver.CreateDataSource('points.shp')\n",
      "outLayer = outDataSource.CreateLayer('points.shp', geom_type=ogr.wkbMultiPoint)\n",
      "featureDefn = outLayer.GetLayerDefn()\n",
      "outFeature = ogr.Feature(featureDefn)\n",
      "outFeature.SetGeometry(multipoint)\n",
      "outLayer.CreateFeature(outFeature)"
     ],
     "language": "python",
     "metadata": {},
     "outputs": [],
     "prompt_number": 48
    },
    {
     "cell_type": "code",
     "collapsed": false,
     "input": [
      "multipoint"
     ],
     "language": "python",
     "metadata": {},
     "outputs": [
      {
       "metadata": {},
       "output_type": "pyout",
       "prompt_number": 55,
       "text": [
        "<osgeo.ogr.Geometry; proxy of <Swig Object of type 'OGRGeometryShadow *' at 0x108f61c30> >"
       ]
      }
     ],
     "prompt_number": 55
    },
    {
     "cell_type": "code",
     "collapsed": false,
     "input": [
      "# Load satellite data and metadata \n",
      "\n",
      "# Reproject \n",
      "\n",
      "\n",
      "\n",
      "fig  = plt.figure(figsize=(30, 30))\n",
      "x = meta['location:Longitude'].values\n",
      "y = meta['location:Latitude'].values\n",
      "c = tempDF.mean(axis=0).values # The colors will show the mean temp at that location\n",
      "marker_size = 150\n",
      "fig = plt.figure(figsize=(10,10))\n",
      "ax = fig.add_axes([0.1,0.1,0.8,0.8])\n",
      "\n",
      "m = Basemap(llcrnrlon=meta['location:Longitude'].min()-.0005,\n",
      "            llcrnrlat=meta['location:Latitude'].min()-.0005,\n",
      "            urcrnrlon=meta['location:Longitude'].max()+.0005,\n",
      "            urcrnrlat=meta['location:Latitude'].max()+.0005,\n",
      "            projection='mill',\n",
      "            #projection = 'merc',\n",
      "            resolution ='h',\n",
      "            #area_thresh=1000.\n",
      "            epsg=3857\n",
      "            )\n",
      "wms_server = \"http://osm.woc.noaa.gov/mapcache\" \n",
      "map.wmsimage(wms_server, layers = [\"osm\"], verbose = True)\n",
      "\n",
      "#m.drawmapboundary(fill_color='#a6bddb')\n",
      "#m.drawcounties()\n",
      "#m.fillcontinents(color = '#f0f0f0', zorder =0 )\n",
      "\n",
      "celsius = m.scatter(x,y, s = marker_size, \n",
      "                    c = c, \n",
      "                    cmap = matplotlib.cm.RdBu_r, \n",
      "                    latlon = True, \n",
      "                    lw = 2, \n",
      "                    edgecolor = 'gray')"
     ],
     "language": "python",
     "metadata": {},
     "outputs": []
    }
   ],
   "metadata": {}
  }
 ]
}